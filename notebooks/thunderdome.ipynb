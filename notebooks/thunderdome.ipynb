{
 "cells": [
  {
   "cell_type": "markdown",
   "metadata": {},
   "source": [
    "We really care (and want to check) that honest, protocol-following validators, reap the highest (in-protocol) rewards. We'll get a feel for what this means here by pitting different validator behaviours against each other.\n",
    "\n",
    "To introduce a bit of terminology, we are creating an _agent-based model_ here. We do not explicitly code a scenario that agents follow, but program simple update and interaction rules, let them unfold for a while, and then look at the tape to infer conclusions.\n",
    "\n",
    "We'll distinguish between _strategies_ and _behaviours_. A validator can do several things: attest, propose, or do nothing. We'll call _strategies_ instantiations of these particular actions. For instance, a validator may employ the strategy of always attesting correctly, or flipping a coin and half the time attesting correctly, half the time not attesting at all (a pretty dumb strategy if you ask me).\n",
    "\n",
    "We use the word _behaviour_ to describe the general articulation of these strategies: what to play and _when_. We explored in the [main notebook](br2050.html) the behaviour of the [ASAP validator](https://github.com/barnabemonnot/beaconrunner/blob/master/beaconrunner/validators/ASAPValidator.py), who does something as early as possible according to the specs (at the beginning of the slot for a block proposal; a third of a slot, i.e., 4 seconds in _or_ whenever the block for that slot is received for an attestation).\n",
    "\n",
    "In this notebook, we'll look at a different behaviour too: the [Prudent validator](https://github.com/barnabemonnot/beaconrunner/blob/master/beaconrunner/validators/PrudentValidator.py). Although validators are expected to propose their block as early as possible, network delays could prevent attesters from receiving the block before a third of the slot has elapsed. ASAP validators would attest anyways, at the risk of voting on the wrong head, before receiving the block for that slot. Prudent validators hedge their bets a bit:\n",
    "\n",
    "- If Prudent validators receive the block for their attesting slot, they publish their attestation with the head set to that block.\n",
    "- If more than 8 seconds have elapsed into the slot, and they still haven't received a block, they attest for the head they know about.\n",
    "\n",
    "In other words, although prudent validators are willing to wait to see if the block will turn up, there is a limit to how long they will wait: they need to communicate their attestations in a timely manner after all! They only differ from ASAPs by how long they are willing to wait."
   ]
  },
  {
   "cell_type": "markdown",
   "metadata": {},
   "source": [
    "### Rewards under consideration\n",
    "\n",
    "To see how this behaviour impacts the payoff received by ASAP and prudent validators, let's dive into the rewards and penalties schedule for attesters (we won't look at rewards from block proposing here). Note first the following two things:\n",
    "\n",
    "- Validators receive a bonus for attesting on the correct head. Attesting too early means possibly losing out on this bonus if the head specified in the attestation is incorrect.\n",
    "- Validators receive a bonus for early inclusion of their attestation in a block. This means that they should attest relatively soon, and cannot wait forever to see if a missing block will turn up.\n",
    "\n",
    "You can see [here in the specs](https://github.com/ethereum/eth2.0-specs/blob/579da6d2dc734b269dbf67aa1004b54bb9449784/specs/phase0/beacon-chain.md#get_attestation_deltas) how rewards and penalties are computed at the end of each epoch. Let's unpack the computations below.\n",
    "\n",
    "### Attester rewards in eth2\n",
    "\n",
    "A _base reward_ $\\texttt{BR}$ is computed that depends only on the validator's effective balance (maximum 32 ETH) and the current total active balance (the total effective balance of _all_ active validators). Letting $i$ denote our validator,\n",
    "\n",
    "$$ \\texttt{BR[i]} = \\texttt{balance[i]} \\cdot \\frac{\\texttt{BRF}}{\\sqrt{\\texttt{total\\_balance}} \\cdot \\texttt{BRPE}} $$\n",
    "\n",
    "$\\texttt{BRPE}$ stands for _base rewards per epoch_. A validator can be rewarded for\n",
    "\n",
    "1. Attesting to the correct source, yielding $\\texttt{BR[i]}$.\n",
    "2. Attesting to the correct target, yielding $\\texttt{BR[i]}$.\n",
    "3. Attesting to the correct head, yielding $\\texttt{BR[i]}$.\n",
    "4. Early inclusion, yielding at most $\\texttt{BR[i]} \\Big( 1 - \\frac{1}{\\texttt{PRQ}} \\Big)$ with $\\texttt{PRQ}$ the _proposer reward quotient_.\n",
    "\n",
    "These four items are why $\\texttt{BRPE}$ is set to 4 (at least in phase 0). $\\texttt{BRF}$, the _base reward factor_, is a scaling constant currently set at $2^6 = 64$.\n",
    "\n",
    "For each of the first three items, we scale the base reward by the fraction of the active stake who correctly attested for the item. If $\\rho_s$ is the fraction of the stake who attested correctly for the source, then a validator $i$ with a correct source receives $\\rho_s \\cdot \\texttt{BR[i]}$. However, failure to attest or attesting for an incorrect source, target or head incurs the full $\\texttt{BR[i]}$ as penalty.\n",
    "\n",
    "Now, let's dig deeper into item 4, early inclusion. Attestations may be included at least one slot after the slot they are attesting for, called the _committee slot_. If they are included in the block immediately following their committee slot, they receive the full base reward, minus the _proposer reward_, endowed to the block producer (see table below). If they are included in the block two slots after their committee slot, they receive half. Three blocks later, a third, etc. Attestations must be included at the latest one full epoch after their committee slot. This means the smallest inclusion reward is 1/32 of the base reward (assuming `SLOTS_PER_EPOCH` is equal to 32).\n",
    "\n",
    "These are the attester rewards in the best of times. Note however, that the penalties are not symmetric. Whenever a validator fails to attest for one of the first three items, or attests incorrectly, the penalty is equal to the whole base reward. No discount!\n",
    "\n",
    "What about the worst of times? From the perspective of rewards and penalities, this happens when the chain is not finalising epochs anymore (a situation we explored in a [different notebook](br2049.html)). In this case, we want to \"leak\" the stake of inactive validators, who are preventing finalisation. A [recent modification](https://github.com/ethereum/eth2.0-specs/pull/1830) ensures that validators who perform optimally (i.e., attest correctly to all three items _and_ included in the block immediately following their committee slot) do not suffer any losses. Meanwhile, validators who are not attesting for the correct target (a key ingredient for finalisation) suffer increasingly painful consequences, as the _finality delay_ (the gap between the current epoch and the last finalised epoch) grows.\n",
    "\n",
    "This is all synthesised in the following table. \"IL\" items refer to \"Inactivity Leak\": the rewards and penalties during these worst of times."
   ]
  },
  {
   "cell_type": "markdown",
   "metadata": {},
   "source": [
    "![](img/rewardsv1.png)"
   ]
  },
  {
   "cell_type": "markdown",
   "metadata": {},
   "source": [
    "Let's explore a few examples. We note at the end of the formula whether the result is positive (the validator makes a profit) or negative (the validator makes a loss).\n",
    "\n",
    "- A validator who gets everything correct, and whose attestations are included 2 slots after their committee slot, while the chain is finalising, reaps:\n",
    "\n",
    "$$ \\Big( \\rho_s + \\rho_t + \\rho_h + \\frac{1}{2} (1 - \\frac{1}{\\texttt{PRQ}}) \\Big) \\texttt{BR[i]} > 0 $$\n",
    "\n",
    "- A validator who gets everything correct, and whose attestations are included 2 slots after their committee slot, while the chain is _not finalising_, reaps:\n",
    "\n",
    "$$ \\Big(3 + \\frac{1}{2} (1 - \\frac{1}{\\texttt{PRQ}}) - \\texttt{BRPE} + \\frac{1}{\\texttt{PRQ}} \\Big) \\texttt{BR[i]} = \\Big(-\\frac{1}{2} + \\frac{1}{2\\texttt{PRQ}} \\Big) \\texttt{BR[i]} < 0 $$\n",
    "\n",
    "- A validator who gets everything correct _except the target_, and whose attestations are included 2 slots after their committee slot, while the chain is _not finalising_ with finality delay $f$, reaps:\n",
    "\n",
    "$$ \\Big(1 - 1 + 1 + \\frac{1}{2} (1 - \\frac{1}{\\texttt{PRQ}}) - \\texttt{BRPE} + \\frac{1}{\\texttt{PRQ}} \\Big) \\texttt{BR[i]} - \\texttt{balance[i]} \\cdot \\frac{f}{\\texttt{IPQ}} = \\Big(-\\frac{5}{2} + \\frac{1}{2\\texttt{PRQ}} \\Big) \\texttt{BR[i]} - \\texttt{balance[i]} \\cdot \\frac{f}{\\texttt{IPQ}} < 0 $$"
   ]
  },
  {
   "cell_type": "markdown",
   "metadata": {},
   "source": [
    "### Some hypotheses before simulating\n",
    "\n",
    "In a network with perfect (or close to perfect) latency and honest proposers, we don't expect ASAP and prudent validator earnings to differ significantly. But under real-world conditions, the behaviour of prudent validators appears more _robust_ than that of ASAP validators. By robust, we mean that prudent validators perform better under slight variations of the parameters, e.g., the average network latency.\n",
    "\n",
    "When network delays are high or block proposers are lazy (meaning they don't propagate their blocks in time, perhaps because they are being prudent in order to collect more incoming attestations), prudent validators stand to reap the \"correct head\" reward more often. On the other hand, when network delays are really, really high, perhaps proposing ASAP is a better strategy, as it ensures at least _something_ goes through, even if it's possibly incorrect.\n",
    "\n",
    "## _\"Two nodes enter! One node leaves!\"_\n",
    "\n",
    "Let's pit `PrudentValidator`s against `ASAP`s and observe the result. In this simulation, we let `SLOTS_PER_EPOCH` equal 4 and simulate a small number of validators. Runs are now random: sometimes the network updates, sometimes it doesn't. We'll set it up later so that on average messages propagate one step further on the network every 4 seconds.\n",
    "\n",
    "We first load all the necessary packages. The remainder will look a lot like what we did in the [main notebook](br2050.html), check it out for more background!"
   ]
  },
  {
   "cell_type": "code",
   "execution_count": 1,
   "metadata": {},
   "outputs": [],
   "source": [
    "import importlib\n",
    "import os\n",
    "import types\n",
    "from eth2spec.config.config_util import prepare_config\n",
    "from eth2spec.utils.ssz.ssz_impl import hash_tree_root"
   ]
  },
  {
   "cell_type": "code",
   "execution_count": 2,
   "metadata": {},
   "outputs": [],
   "source": [
    "import os, sys\n",
    "sys.path.insert(1, os.path.realpath(os.path.pardir) + \"/notebooks/thunderdome\")\n",
    "\n",
    "import beaconrunner as br"
   ]
  },
  {
   "cell_type": "code",
   "execution_count": 3,
   "metadata": {},
   "outputs": [
    {
     "name": "stdout",
     "output_type": "stream",
     "text": [
      ".\n",
      "present_dir fast.yaml\n"
     ]
    }
   ],
   "source": [
    "prepare_config(\".\", \"fast.yaml\")"
   ]
  },
  {
   "cell_type": "code",
   "execution_count": 4,
   "metadata": {},
   "outputs": [],
   "source": [
    "br.reload_package(br)"
   ]
  },
  {
   "cell_type": "markdown",
   "metadata": {},
   "source": [
    "We then create our _observers_, to allow us to record interesting metrics at each simulation step."
   ]
  },
  {
   "cell_type": "code",
   "execution_count": 5,
   "metadata": {},
   "outputs": [],
   "source": [
    "def current_slot(params, step, sL, s, _input):\n",
    "    return (\"current_slot\", s[\"network\"].validators[0].data.slot)\n",
    "\n",
    "def average_balance_prudent(params, step, sL, s, _input):\n",
    "    validators = s[\"network\"].validators\n",
    "    validator = validators[0]\n",
    "    head = br.specs.get_head(validator.store)\n",
    "    current_state = validator.store.block_states[head]\n",
    "    current_epoch = br.specs.get_current_epoch(current_state)\n",
    "    prudent_indices = [i for i, v in enumerate(validators) if v.validator_behaviour == \"prudent\"]\n",
    "    prudent_balances = [b for i, b in enumerate(current_state.balances) if i in prudent_indices]\n",
    "    return (\"average_balance_prudent\", br.utils.eth2.gwei_to_eth(sum(prudent_balances) / float(len(prudent_indices))))\n",
    "\n",
    "def average_balance_asap(params, step, sL, s, _input):\n",
    "    validators = s[\"network\"].validators\n",
    "    validator = validators[0]\n",
    "    head = br.specs.get_head(validator.store)\n",
    "    current_state = validator.store.block_states[head]\n",
    "    current_epoch = br.specs.get_current_epoch(current_state)\n",
    "    asap_indices = [i for i, v in enumerate(validators) if v.validator_behaviour == \"asap\"]\n",
    "    asap_balances = [b for i, b in enumerate(current_state.balances) if i in asap_indices]\n",
    "    return (\"average_balance_asap\", br.utils.eth2.gwei_to_eth(sum(asap_balances) / float(len(asap_indices))))\n",
    "\n",
    "observers = {\n",
    "    \"current_slot\": current_slot,\n",
    "    \"average_balance_prudent\": average_balance_prudent,\n",
    "    \"average_balance_asap\": average_balance_asap,\n",
    "}"
   ]
  },
  {
   "cell_type": "markdown",
   "metadata": {},
   "source": [
    "And define a \"main\" function -- in this case, `simulate_thunderdome` -- to run the simulation. The function returns a `pandas` dataframe containing the metrics recorded throughout the run."
   ]
  },
  {
   "cell_type": "code",
   "execution_count": 6,
   "metadata": {},
   "outputs": [],
   "source": [
    "from random import sample\n",
    "from beaconrunner.validators.ASAPValidator import ASAPValidator\n",
    "from beaconrunner.validators.PrudentValidator import PrudentValidator\n",
    "\n",
    "def simulate_once(network_sets, num_run, num_validators, network_update_rate):\n",
    "    # Half our validators are prudent, the others are ASAPs\n",
    "    num_prudent = int(num_validators / 2)\n",
    "\n",
    "    # We sample the position on the p2p network of prudent validators randomly\n",
    "    prudentset = set(sample(range(num_validators), num_prudent))\n",
    "\n",
    "    validators = []\n",
    "\n",
    "    # Initiate validators\n",
    "    for i in range(num_validators):\n",
    "        if i in prudentset:\n",
    "            new_validator = PrudentValidator(i)\n",
    "        else:\n",
    "            new_validator = ASAPValidator(i)\n",
    "        validators.append(new_validator)\n",
    "    \n",
    "    # Create a genesis state\n",
    "    genesis_state = br.simulator.get_genesis_state(validators)\n",
    "    \n",
    "    # Validators load the state\n",
    "    [v.load_state(genesis_state.copy()) for v in validators]\n",
    "\n",
    "    br.simulator.skip_genesis_block(validators)\n",
    "\n",
    "    network = br.network.Network(validators = validators, sets=network_sets)\n",
    "\n",
    "    parameters = br.simulator.SimulationParameters({\n",
    "        \"num_epochs\": 20,\n",
    "        \"num_run\": num_run,\n",
    "        \"frequency\": 1,\n",
    "        \"network_update_rate\": network_update_rate,\n",
    "    })\n",
    "\n",
    "    return br.simulator.simulate(network, parameters, observers)"
   ]
  },
  {
   "cell_type": "code",
   "execution_count": 7,
   "metadata": {},
   "outputs": [],
   "source": [
    "%%capture\n",
    "\n",
    "import pandas as pd\n",
    "\n",
    "num_validators = 12\n",
    "\n",
    "# Create the network peers\n",
    "set_a = br.network.NetworkSet(validators=list(range(0, int(num_validators * 2 / 3.0))))\n",
    "set_b = br.network.NetworkSet(validators=list(range(int(num_validators / 2.0), num_validators)))\n",
    "network_sets = list([set_a, set_b])\n",
    "\n",
    "num_runs = 40\n",
    "network_update_rate = 0.25\n",
    "\n",
    "df = pd.concat([simulate_once(network_sets, num_run, num_validators, network_update_rate) for num_run in range(num_runs)])"
   ]
  },
  {
   "cell_type": "markdown",
   "metadata": {},
   "source": [
    "To do a fair amount of runs (40) simulating a good number of epochs (20), we set a low number of validators (12). Since we are more interested in comparing individual rewards between ASAP and prudent validators rather than macro-properties or even scalability of the chain, this is not a bad thing to do (and it speeds things up quite a bit).\n",
    "\n",
    "Note here that we keep the same network topology across all our runs. However, validator types are placed randomly over the network with each new run, with always 50% of them Prudent and the other 50% ASAPs."
   ]
  },
  {
   "cell_type": "markdown",
   "metadata": {},
   "source": [
    "Since we have 4 slots per epoch, and 20 epochs, let's read the average balances at slot 81, after the 20th epoch rewards and penalties were computed."
   ]
  },
  {
   "cell_type": "code",
   "execution_count": 8,
   "metadata": {},
   "outputs": [
    {
     "data": {
      "text/html": [
       "<div>\n",
       "<style scoped>\n",
       "    .dataframe tbody tr th:only-of-type {\n",
       "        vertical-align: middle;\n",
       "    }\n",
       "\n",
       "    .dataframe tbody tr th {\n",
       "        vertical-align: top;\n",
       "    }\n",
       "\n",
       "    .dataframe thead th {\n",
       "        text-align: right;\n",
       "    }\n",
       "</style>\n",
       "<table border=\"1\" class=\"dataframe\">\n",
       "  <thead>\n",
       "    <tr style=\"text-align: right;\">\n",
       "      <th></th>\n",
       "      <th>average_balance_prudent</th>\n",
       "      <th>average_balance_asap</th>\n",
       "    </tr>\n",
       "  </thead>\n",
       "  <tbody>\n",
       "    <tr>\n",
       "      <th>count</th>\n",
       "      <td>40.000000</td>\n",
       "      <td>40.000000</td>\n",
       "    </tr>\n",
       "    <tr>\n",
       "      <th>mean</th>\n",
       "      <td>32.057495</td>\n",
       "      <td>32.053940</td>\n",
       "    </tr>\n",
       "    <tr>\n",
       "      <th>std</th>\n",
       "      <td>0.001533</td>\n",
       "      <td>0.002275</td>\n",
       "    </tr>\n",
       "    <tr>\n",
       "      <th>min</th>\n",
       "      <td>32.052082</td>\n",
       "      <td>32.047887</td>\n",
       "    </tr>\n",
       "    <tr>\n",
       "      <th>25%</th>\n",
       "      <td>32.056637</td>\n",
       "      <td>32.052751</td>\n",
       "    </tr>\n",
       "    <tr>\n",
       "      <th>50%</th>\n",
       "      <td>32.057755</td>\n",
       "      <td>32.054041</td>\n",
       "    </tr>\n",
       "    <tr>\n",
       "      <th>75%</th>\n",
       "      <td>32.058686</td>\n",
       "      <td>32.055261</td>\n",
       "    </tr>\n",
       "    <tr>\n",
       "      <th>max</th>\n",
       "      <td>32.060025</td>\n",
       "      <td>32.057624</td>\n",
       "    </tr>\n",
       "  </tbody>\n",
       "</table>\n",
       "</div>"
      ],
      "text/plain": [
       "       average_balance_prudent  average_balance_asap\n",
       "count                40.000000             40.000000\n",
       "mean                 32.057495             32.053940\n",
       "std                   0.001533              0.002275\n",
       "min                  32.052082             32.047887\n",
       "25%                  32.056637             32.052751\n",
       "50%                  32.057755             32.054041\n",
       "75%                  32.058686             32.055261\n",
       "max                  32.060025             32.057624"
      ]
     },
     "execution_count": 8,
     "metadata": {},
     "output_type": "execute_result"
    }
   ],
   "source": [
    "df[df.current_slot == 81][['average_balance_prudent', 'average_balance_asap']].describe()"
   ]
  },
  {
   "cell_type": "markdown",
   "metadata": {},
   "source": [
    "It doesn't seem like a big difference, yet on average prudent validators have higher earnings than ASAPs! Taking into account the [standard error](https://en.wikipedia.org/wiki/Standard_error), the difference between the means appears to be [statistically significant](https://www.investopedia.com/terms/s/statistically_significant.asp), meaning that even though the difference is small, it's not likely to be due to chance alone (while we won't go down this path here, there are statistical tests we could use to test this more precisely if we wished). To see if our intuition is correct, let's chart the ensemble mean over the 40 runs too:"
   ]
  },
  {
   "cell_type": "code",
   "execution_count": 9,
   "metadata": {
    "tags": []
   },
   "outputs": [
    {
     "data": {
      "text/plain": [
       "<AxesSubplot:xlabel='current_slot'>"
      ]
     },
     "execution_count": 9,
     "metadata": {},
     "output_type": "execute_result"
    },
    {
     "data": {
      "image/png": "[encoded data removed]",
      "text/plain": [
       "<Figure size 432x288 with 1 Axes>"
      ]
     },
     "metadata": {
      "needs_background": "light"
     },
     "output_type": "display_data"
    }
   ],
   "source": [
    "df.groupby([\"current_slot\"]).mean().reset_index().plot(\"current_slot\", [\"average_balance_prudent\", \"average_balance_asap\"])"
   ]
  },
  {
   "cell_type": "markdown",
   "metadata": {},
   "source": [
    "We see that, as we extend time, prudent validators definitely overtake ASAP validators. Even though 20 epochs is not that long -- at 12 seconds per slot, and 32 slots per epoch, 20 epochs is approximately 2 hours -- over time these differences accumulate.\n",
    "\n",
    "## Try it out!\n",
    "\n",
    "We specified the ASAP and prudent validators as two very simple Python classes. For instance, this is how the prudent validator's attestation behaviour is implemented:\n",
    "\n",
    "```python\n",
    "def attest(self, known_items) -> Optional[specs.Attestation]: \n",
    "    # Not the moment to attest\n",
    "    if self.data.current_attest_slot != self.data.slot:\n",
    "        return None\n",
    "\n",
    "    time_in_slot = (self.store.time - self.store.genesis_time) % SECONDS_PER_SLOT\n",
    "\n",
    "    # Too early in the slot / didn't receive block\n",
    "    if not self.data.received_block and time_in_slot < 8:\n",
    "        return None\n",
    "\n",
    "    # Already attested for this slot\n",
    "    if self.data.last_slot_attested == self.data.slot:\n",
    "        return None\n",
    "\n",
    "    # honest attest\n",
    "    return honest_attest(self, known_items)\n",
    "```\n",
    "\n",
    "You too can specify your own agent behaviours following the simple validator API documented [here](https://barnabemonnot.com/beaconrunner/build/html/validatorlib.html), and have them attest and produce block in a simulated beacon chain environment following the steps outlined above.\n",
    "\n",
    "Validators consume information contained in their `data` attribute. If you find yourself requiring more inputs from the simulation to program your validators, try opening an issue in the [Beacon Runner repo](https://github.com/barnabemonnot/beaconrunner)."
   ]
  },
  {
   "cell_type": "markdown",
   "metadata": {},
   "source": [
    "## (Bonus) Better network\n",
    "\n",
    "When latency decreases (faster propagation), are the effects as strong? We set the network update rate to 0.9, meaning that objects propagate on the network almost definitely each step."
   ]
  },
  {
   "cell_type": "code",
   "execution_count": 10,
   "metadata": {},
   "outputs": [],
   "source": [
    "%%capture\n",
    "\n",
    "network_update_rate = 0.9\n",
    "\n",
    "df = pd.concat([simulate_once(network_sets, num_run, num_validators, network_update_rate) for num_run in range(num_runs)])"
   ]
  },
  {
   "cell_type": "code",
   "execution_count": 11,
   "metadata": {},
   "outputs": [
    {
     "data": {
      "text/plain": [
       "<AxesSubplot:xlabel='current_slot'>"
      ]
     },
     "execution_count": 11,
     "metadata": {},
     "output_type": "execute_result"
    },
    {
     "data": {
      "image/png": "[encoded data removed]",
      "text/plain": [
       "<Figure size 432x288 with 1 Axes>"
      ]
     },
     "metadata": {
      "needs_background": "light"
     },
     "output_type": "display_data"
    }
   ],
   "source": [
    "df.groupby([\"current_slot\"]).mean().reset_index().plot(\"current_slot\", [\"average_balance_prudent\", \"average_balance_asap\"])"
   ]
  },
  {
   "cell_type": "markdown",
   "metadata": {},
   "source": [
    "It is not as advantageous to be Prudent now, their payoffs are broadly similar to ASAPs. But it doesn't hurt either."
   ]
  },
  {
   "cell_type": "raw",
   "metadata": {},
   "source": [
    "Beacon Runner: Thunderdome"
   ]
  },
  {
   "cell_type": "raw",
   "metadata": {},
   "source": [
    "Note: This post describes a result that was true in the v1 specs, but is fixed in the first major upgrade, v1.1, a.k.a. Altair. The table of rewards presented in Section 1. is also outdated. The value of the case study remains."
   ]
  },
  {
   "cell_type": "raw",
   "metadata": {},
   "source": [
    "// References + footnotes\n",
    "\n",
    "// Authors\n",
    "let authorData = [\"barnabe\"];"
   ]
  },
  {
   "cell_type": "raw",
   "metadata": {},
   "source": [
    "Many thanks to Sacha for his edits and suggestions; Danny, Protolambda and Terence for comments."
   ]
  }
 ],
 "metadata": {
  "kernelspec": {
   "display_name": "Python 3",
   "language": "python",
   "name": "python3"
  },
  "language_info": {
   "codemirror_mode": {
    "name": "ipython",
    "version": 3
   },
   "file_extension": ".py",
   "mimetype": "text/x-python",
   "name": "python",
   "nbconvert_exporter": "python",
   "pygments_lexer": "ipython3",
   "version": "3.9.2"
  }
 },
 "nbformat": 4,
 "nbformat_minor": 4
}
